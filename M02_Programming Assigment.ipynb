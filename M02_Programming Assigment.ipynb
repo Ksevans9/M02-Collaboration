{
 "cells": [
  {
   "cell_type": "code",
   "execution_count": 2,
   "id": "6950eb85",
   "metadata": {},
   "outputs": [
    {
     "name": "stdout",
     "output_type": "stream",
     "text": [
      "Guess value is =  6\n",
      "Secret value is =  10\n",
      "too low!\n"
     ]
    }
   ],
   "source": [
    "#KeShaundra Evans\n",
    "#6/18/2023\n",
    "import random\n",
    "# 4.1 Choose a number between 1 and 10 and assign it to the variable secret.\n",
    "#Then, select another number between 1 and 10 and assign it to the variable guess\n",
    "secret = random.randint(1,10)\n",
    "guess = random.randint(1,10)\n",
    "# Next, write the conditional tests (if, else, and elif) to print the string 'too low'\n",
    "print(\"Guess value is = \", guess)\n",
    "print(\"Secret value is = \", secret)\n",
    "\n",
    "if guess < secret:\n",
    "    print(\"too low!\")\n",
    "    \n",
    "#if guess is less than secret, 'too high'\n",
    "\n",
    "elif guess > secret:\n",
    "    print(\"too high!\")\n",
    "# if greater than secret, and 'just right' if equal to secret.\n",
    "else:\n",
    "    print(\"just right!\")"
   ]
  },
  {
   "cell_type": "code",
   "execution_count": 10,
   "id": "c61e922a",
   "metadata": {},
   "outputs": [
    {
     "ename": "SyntaxError",
     "evalue": "invalid syntax (2251352753.py, line 12)",
     "output_type": "error",
     "traceback": [
      "\u001b[1;36m  File \u001b[1;32m\"C:\\Users\\wwwki\\AppData\\Local\\Temp\\ipykernel_7832\\2251352753.py\"\u001b[1;36m, line \u001b[1;32m12\u001b[0m\n\u001b[1;33m    else not small and not green:\u001b[0m\n\u001b[1;37m         ^\u001b[0m\n\u001b[1;31mSyntaxError\u001b[0m\u001b[1;31m:\u001b[0m invalid syntax\n"
     ]
    }
   ],
   "source": [
    "#4.2 Assign True or False to the variables small and green.\n",
    "small = True\n",
    "green = False\n",
    "\n",
    "#Write some if/else statements to print which of these matches those choices: cherry, pea, watermelon, pumpkin.\n",
    "if small + green:\n",
    "    print(\"pea\")\n",
    "elif small > green:\n",
    "    print(\"cherry\")\n",
    "elif small < green:\n",
    "    print(\"watermelon\")\n",
    "else not small and not green:\n",
    "    print(\"pumpkin\")"
   ]
  },
  {
   "cell_type": "code",
   "execution_count": 11,
   "id": "36f05632",
   "metadata": {},
   "outputs": [
    {
     "name": "stdout",
     "output_type": "stream",
     "text": [
      "3\n",
      "2\n",
      "1\n",
      "0\n"
     ]
    }
   ],
   "source": [
    "#6.1 Use a for loop to print the values of the list [3, 2, 1, 0].\n",
    "for value in [3, 2, 1, 0]:\n",
    "    print (value)"
   ]
  },
  {
   "cell_type": "code",
   "execution_count": null,
   "id": "78310747",
   "metadata": {},
   "outputs": [],
   "source": [
    "#6.2 Assign the value 7 to the variable guess_me, and the value 1 to the variable number.\n",
    "guess_me = 7\n",
    "number = 1\n",
    "#Write a while loop that compares number with guess_me\n",
    "while True:\n",
    "    if number < guess_me:\n",
    "        print(\"too low!\")\n",
    "    elif number > guess_me:\n",
    "        print(\"oops\")\n",
    "    else:\n",
    "        print(\"found it.\")\n",
    "        break\n",
    "        number +=1\n",
    "        "
   ]
  },
  {
   "cell_type": "code",
   "execution_count": null,
   "id": "a197bb07",
   "metadata": {},
   "outputs": [],
   "source": [
    "#6.3 Assign the value 5 to the variable guess_me. \n",
    "guess_me = 5\n",
    "for number in range [1,10]:\n",
    "    if number < guess_me:\n",
    "        print(\"too low!\")\n",
    "    elif number > guess_me:\n",
    "        print(\"oops\")\n",
    "    else:\n",
    "        print(\"found it.\")\n",
    "        number +=1"
   ]
  },
  {
   "cell_type": "code",
   "execution_count": null,
   "id": "1dac39ad",
   "metadata": {},
   "outputs": [],
   "source": []
  }
 ],
 "metadata": {
  "kernelspec": {
   "display_name": "Python 3 (ipykernel)",
   "language": "python",
   "name": "python3"
  },
  "language_info": {
   "codemirror_mode": {
    "name": "ipython",
    "version": 3
   },
   "file_extension": ".py",
   "mimetype": "text/x-python",
   "name": "python",
   "nbconvert_exporter": "python",
   "pygments_lexer": "ipython3",
   "version": "3.9.13"
  }
 },
 "nbformat": 4,
 "nbformat_minor": 5
}
