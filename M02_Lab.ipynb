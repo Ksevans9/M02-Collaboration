{
 "cells": [
  {
   "cell_type": "code",
   "execution_count": null,
   "id": "85fca688",
   "metadata": {},
   "outputs": [
    {
     "name": "stdout",
     "output_type": "stream",
     "text": [
      "Enter Student name:Keke\n",
      "Enter Student gpa:3.5\n",
      "Kekemade the Dean list\n",
      "Enter Student gpa:3.0\n"
     ]
    }
   ],
   "source": [
    "#KeShaundra Evans\n",
    "#6/18/2023\n",
    "#Write a Python app that will accept student names and GPAs and test if the student qualifies for either the Dean's List or the Honor Roll\n",
    "# ask for and accept a student's name.\n",
    "student_name = input(\"Enter Student name:\")\n",
    "# quit processing student records if the last name entered is 'ZZZ'\n",
    "while student_name != \"zzz\":\n",
    "#ask for and accept the student's GPA as a float.\n",
    "#enter student gpa.\n",
    "    gpa = float(input(\"Enter Student gpa:\"))\n",
    "#test if the student's GPA is 3.5 or greater and, if so, print a message saying that the student has made the Dean's List.\n",
    "    if gpa >= 3.5:\n",
    "        print (student_name +\"\"+ \"made the Dean list\")\n",
    "#test if the student's GPA is 3.25 or greater and, if so, print a message saying that the studnet has made the Honor Roll.\n",
    "    else:\n",
    "        if gpa >= 3.25:\n",
    "            print(student_name +\"\"+\"made Honor roll\")\n",
    "    "
   ]
  },
  {
   "cell_type": "code",
   "execution_count": null,
   "id": "38c7fe53",
   "metadata": {},
   "outputs": [],
   "source": []
  }
 ],
 "metadata": {
  "kernelspec": {
   "display_name": "Python 3 (ipykernel)",
   "language": "python",
   "name": "python3"
  },
  "language_info": {
   "codemirror_mode": {
    "name": "ipython",
    "version": 3
   },
   "file_extension": ".py",
   "mimetype": "text/x-python",
   "name": "python",
   "nbconvert_exporter": "python",
   "pygments_lexer": "ipython3",
   "version": "3.9.13"
  }
 },
 "nbformat": 4,
 "nbformat_minor": 5
}
